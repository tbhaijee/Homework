{
 "cells": [
  {
   "cell_type": "code",
   "execution_count": 1,
   "metadata": {},
   "outputs": [],
   "source": [
    "#Bonus (Optional)\n",
    "#As you examine the data, you are overcome with a creeping suspicion that the dataset is fake. You surmise that \n",
    "#your boss handed you spurious data in order to test the data engineering skills of a new employee. \n",
    "#To confirm your hunch, you decide to take the following steps to generate a visualization of the data, \n",
    "#with which you will confront your boss:\n",
    "\n",
    "#Import the SQL database into Pandas. (Yes, you could read the CSVs directly in Pandas, \n",
    "#but you are, after all, trying to prove your technical mettle.) \n",
    "#This step may require some research. Feel free to use the code below to get started. \n",
    "#Be sure to make any necessary modifications for your username, password, host, port, and database name:\n",
    "\n",
    "#Consult SQLAlchemy documentation for more information.\n",
    "#If using a password, do not upload your password to your GitHub repository. \n",
    "#See https://www.youtube.com/watch?v=2uaTPmNvH0I and \n",
    "#https://martin-thoma.com/configuration-files-in-python/ for more information.\n",
    "\n",
    "#Create a histogram to visualize the most common salary ranges for employees.\n",
    "\n",
    "#Create a bar chart of average salary by title."
   ]
  },
  {
   "cell_type": "code",
   "execution_count": 1,
   "metadata": {},
   "outputs": [],
   "source": [
    "#from sqlalchemy import *\n",
    "#from sqlalchemy.ext.declarative import declarative_base\n",
    "#from sqlalchemy.orm import relation, sessionmaker\n",
    "import pandas as pd\n",
    "import matplotlib.pyplot as plt\n",
    "import sqlalchemy\n",
    "import psycopg2\n",
    "from config import password\n",
    "from config import user"
   ]
  },
  {
   "cell_type": "code",
   "execution_count": 2,
   "metadata": {},
   "outputs": [],
   "source": [
    "from sqlalchemy import create_engine\n",
    "engine = create_engine('postgresql://' + user+ ':' + password+ '@localhost:5432/ph_employee_db')\n",
    "connection = engine.connect()"
   ]
  },
  {
   "cell_type": "code",
   "execution_count": 3,
   "metadata": {},
   "outputs": [
    {
     "data": {
      "text/html": [
       "<div>\n",
       "<style scoped>\n",
       "    .dataframe tbody tr th:only-of-type {\n",
       "        vertical-align: middle;\n",
       "    }\n",
       "\n",
       "    .dataframe tbody tr th {\n",
       "        vertical-align: top;\n",
       "    }\n",
       "\n",
       "    .dataframe thead th {\n",
       "        text-align: right;\n",
       "    }\n",
       "</style>\n",
       "<table border=\"1\" class=\"dataframe\">\n",
       "  <thead>\n",
       "    <tr style=\"text-align: right;\">\n",
       "      <th></th>\n",
       "      <th>emp_no</th>\n",
       "      <th>salary</th>\n",
       "      <th>from_date</th>\n",
       "      <th>to_date</th>\n",
       "    </tr>\n",
       "  </thead>\n",
       "  <tbody>\n",
       "    <tr>\n",
       "      <td>0</td>\n",
       "      <td>10001</td>\n",
       "      <td>60117</td>\n",
       "      <td>1986-06-26</td>\n",
       "      <td>1987-06-26</td>\n",
       "    </tr>\n",
       "    <tr>\n",
       "      <td>1</td>\n",
       "      <td>10002</td>\n",
       "      <td>65828</td>\n",
       "      <td>1996-08-03</td>\n",
       "      <td>1997-08-03</td>\n",
       "    </tr>\n",
       "    <tr>\n",
       "      <td>2</td>\n",
       "      <td>10003</td>\n",
       "      <td>40006</td>\n",
       "      <td>1995-12-03</td>\n",
       "      <td>1996-12-02</td>\n",
       "    </tr>\n",
       "    <tr>\n",
       "      <td>3</td>\n",
       "      <td>10004</td>\n",
       "      <td>40054</td>\n",
       "      <td>1986-12-01</td>\n",
       "      <td>1987-12-01</td>\n",
       "    </tr>\n",
       "    <tr>\n",
       "      <td>4</td>\n",
       "      <td>10005</td>\n",
       "      <td>78228</td>\n",
       "      <td>1989-09-12</td>\n",
       "      <td>1990-09-12</td>\n",
       "    </tr>\n",
       "    <tr>\n",
       "      <td>...</td>\n",
       "      <td>...</td>\n",
       "      <td>...</td>\n",
       "      <td>...</td>\n",
       "      <td>...</td>\n",
       "    </tr>\n",
       "    <tr>\n",
       "      <td>300019</td>\n",
       "      <td>499995</td>\n",
       "      <td>40000</td>\n",
       "      <td>1997-06-02</td>\n",
       "      <td>1998-06-02</td>\n",
       "    </tr>\n",
       "    <tr>\n",
       "      <td>300020</td>\n",
       "      <td>499996</td>\n",
       "      <td>58058</td>\n",
       "      <td>1996-05-13</td>\n",
       "      <td>1997-05-13</td>\n",
       "    </tr>\n",
       "    <tr>\n",
       "      <td>300021</td>\n",
       "      <td>499997</td>\n",
       "      <td>49597</td>\n",
       "      <td>1987-08-30</td>\n",
       "      <td>1988-08-29</td>\n",
       "    </tr>\n",
       "    <tr>\n",
       "      <td>300022</td>\n",
       "      <td>499998</td>\n",
       "      <td>40000</td>\n",
       "      <td>1993-12-27</td>\n",
       "      <td>1994-12-27</td>\n",
       "    </tr>\n",
       "    <tr>\n",
       "      <td>300023</td>\n",
       "      <td>499999</td>\n",
       "      <td>63707</td>\n",
       "      <td>1997-11-30</td>\n",
       "      <td>1998-11-30</td>\n",
       "    </tr>\n",
       "  </tbody>\n",
       "</table>\n",
       "<p>300024 rows × 4 columns</p>\n",
       "</div>"
      ],
      "text/plain": [
       "        emp_no  salary  from_date    to_date\n",
       "0        10001   60117 1986-06-26 1987-06-26\n",
       "1        10002   65828 1996-08-03 1997-08-03\n",
       "2        10003   40006 1995-12-03 1996-12-02\n",
       "3        10004   40054 1986-12-01 1987-12-01\n",
       "4        10005   78228 1989-09-12 1990-09-12\n",
       "...        ...     ...        ...        ...\n",
       "300019  499995   40000 1997-06-02 1998-06-02\n",
       "300020  499996   58058 1996-05-13 1997-05-13\n",
       "300021  499997   49597 1987-08-30 1988-08-29\n",
       "300022  499998   40000 1993-12-27 1994-12-27\n",
       "300023  499999   63707 1997-11-30 1998-11-30\n",
       "\n",
       "[300024 rows x 4 columns]"
      ]
     },
     "execution_count": 3,
     "metadata": {},
     "output_type": "execute_result"
    }
   ],
   "source": [
    "df =pd.read_sql_table(\"salaries\",engine)\n",
    "df"
   ]
  },
  {
   "cell_type": "code",
   "execution_count": 4,
   "metadata": {},
   "outputs": [
    {
     "data": {
      "text/plain": [
       "0         60117\n",
       "1         65828\n",
       "2         40006\n",
       "3         40054\n",
       "4         78228\n",
       "          ...  \n",
       "300019    40000\n",
       "300020    58058\n",
       "300021    49597\n",
       "300022    40000\n",
       "300023    63707\n",
       "Name: salary, Length: 300024, dtype: int64"
      ]
     },
     "execution_count": 4,
     "metadata": {},
     "output_type": "execute_result"
    }
   ],
   "source": [
    "x = df['salary']\n",
    "x"
   ]
  },
  {
   "cell_type": "code",
   "execution_count": 5,
   "metadata": {},
   "outputs": [
    {
     "data": {
      "image/png": "[encoded data removed]",
      "text/plain": [
       "<Figure size 720x432 with 1 Axes>"
      ]
     },
     "metadata": {
      "needs_background": "light"
     },
     "output_type": "display_data"
    }
   ],
   "source": [
    "fig = plt.figure(figsize=(10,6))\n",
    "plt.hist(x, bins = 9)\n",
    "plt.title('Salary VS Number of Employees', fontsize = 20)\n",
    "plt.xlabel('Salaries Range', fontsize = 18)\n",
    "plt.ylabel('Number of Employees', fontsize = 18)\n",
    "plt.show()\n",
    "fig.savefig('Salary Vs employees')"
   ]
  },
  {
   "cell_type": "code",
   "execution_count": 6,
   "metadata": {},
   "outputs": [
    {
     "data": {
      "text/html": [
       "<div>\n",
       "<style scoped>\n",
       "    .dataframe tbody tr th:only-of-type {\n",
       "        vertical-align: middle;\n",
       "    }\n",
       "\n",
       "    .dataframe tbody tr th {\n",
       "        vertical-align: top;\n",
       "    }\n",
       "\n",
       "    .dataframe thead th {\n",
       "        text-align: right;\n",
       "    }\n",
       "</style>\n",
       "<table border=\"1\" class=\"dataframe\">\n",
       "  <thead>\n",
       "    <tr style=\"text-align: right;\">\n",
       "      <th></th>\n",
       "      <th>average_salary</th>\n",
       "      <th>title</th>\n",
       "    </tr>\n",
       "  </thead>\n",
       "  <tbody>\n",
       "    <tr>\n",
       "      <td>0</td>\n",
       "      <td>48493.0</td>\n",
       "      <td>Assistant Engineer</td>\n",
       "    </tr>\n",
       "    <tr>\n",
       "      <td>1</td>\n",
       "      <td>48540.0</td>\n",
       "      <td>Engineer</td>\n",
       "    </tr>\n",
       "    <tr>\n",
       "      <td>2</td>\n",
       "      <td>51531.0</td>\n",
       "      <td>Manager</td>\n",
       "    </tr>\n",
       "    <tr>\n",
       "      <td>3</td>\n",
       "      <td>48507.0</td>\n",
       "      <td>Senior Engineer</td>\n",
       "    </tr>\n",
       "    <tr>\n",
       "      <td>4</td>\n",
       "      <td>58503.0</td>\n",
       "      <td>Senior Staff</td>\n",
       "    </tr>\n",
       "    <tr>\n",
       "      <td>5</td>\n",
       "      <td>58465.0</td>\n",
       "      <td>Staff</td>\n",
       "    </tr>\n",
       "    <tr>\n",
       "      <td>6</td>\n",
       "      <td>48581.0</td>\n",
       "      <td>Technique Leader</td>\n",
       "    </tr>\n",
       "  </tbody>\n",
       "</table>\n",
       "</div>"
      ],
      "text/plain": [
       "   average_salary               title\n",
       "0         48493.0  Assistant Engineer\n",
       "1         48540.0            Engineer\n",
       "2         51531.0             Manager\n",
       "3         48507.0     Senior Engineer\n",
       "4         58503.0        Senior Staff\n",
       "5         58465.0               Staff\n",
       "6         48581.0    Technique Leader"
      ]
     },
     "execution_count": 6,
     "metadata": {},
     "output_type": "execute_result"
    }
   ],
   "source": [
    "query = '''SELECT ROUND(AVG(salaries.salary),0) AS average_salary, titles.title\n",
    "FROM salaries\n",
    "INNER JOIN titles ON\n",
    "salaries.emp_no = titles.emp_no\n",
    "GROUP BY titles.title\n",
    "ORDER BY title;'''\n",
    "avg_salary = pd.read_sql_query(query, engine)\n",
    "avg_salary"
   ]
  },
  {
   "cell_type": "code",
   "execution_count": 18,
   "metadata": {},
   "outputs": [
    {
     "data": {
      "image/png": "[encoded data removed]",
      "text/plain": [
       "<Figure size 720x576 with 1 Axes>"
      ]
     },
     "metadata": {
      "needs_background": "light"
     },
     "output_type": "display_data"
    }
   ],
   "source": [
    "y = avg_salary['average_salary']\n",
    "x = avg_salary['title']\n",
    "\n",
    "fig = plt.figure(figsize=(10,8))\n",
    "ax =fig.add_subplot()\n",
    "\n",
    "for x_, y_ in zip(x, y):\n",
    "    #plot the color based on the result of the evaluation\n",
    "    ax.bar(x_, y_, color = \"red\" if y_ < y.mean() else \"green\", alpha = 0.5)\n",
    "    \n",
    "     # add some text\n",
    "    ax.text(x_, y_ + 0.3, round(y_, 1), horizontalalignment = 'center')\n",
    "    \n",
    "ax.set_xticklabels(x, rotation=90,fontsize=16)\n",
    "\n",
    "# add an y label\n",
    "ax.set_ylabel(\"Average Salary\", fontsize =20)\n",
    "\n",
    "# set a title\n",
    "ax.set_title(\"Average Salary VS Title\", fontsize=20)\n",
    "plt.show()\n",
    "fig.savefig('avg_salary vs title')"
   ]
  },
  {
   "cell_type": "code",
   "execution_count": null,
   "metadata": {},
   "outputs": [],
   "source": []
  }
 ],
 "metadata": {
  "kernelspec": {
   "display_name": "Python 3",
   "language": "python",
   "name": "python3"
  },
  "language_info": {
   "codemirror_mode": {
    "name": "ipython",
    "version": 3
   },
   "file_extension": ".py",
   "mimetype": "text/x-python",
   "name": "python",
   "nbconvert_exporter": "python",
   "pygments_lexer": "ipython3",
   "version": "3.7.4"
  }
 },
 "nbformat": 4,
 "nbformat_minor": 2
}
